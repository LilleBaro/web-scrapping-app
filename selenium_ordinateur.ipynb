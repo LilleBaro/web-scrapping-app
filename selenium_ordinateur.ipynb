{
 "cells": [
  {
   "cell_type": "code",
   "execution_count": 24,
   "metadata": {},
   "outputs": [],
   "source": [
    "# importer packages\n",
    "from selenium import webdriver \n",
    "from selenium.webdriver.common.by import By \n"
   ]
  },
  {
   "cell_type": "code",
   "execution_count": null,
   "metadata": {},
   "outputs": [],
   "source": [
    "options = webdriver.ChromeOptions() \n",
    "options.add_argument(\"--headless=new\") \n",
    "driver = webdriver.Chrome(options=options)"
   ]
  },
  {
   "cell_type": "code",
   "execution_count": null,
   "metadata": {},
   "outputs": [
    {
     "data": {
      "text/plain": [
       "10"
      ]
     },
     "execution_count": 26,
     "metadata": {},
     "output_type": "execute_result"
    }
   ],
   "source": [
    "driver.get('https://www.expat-dakar.com/ordinateurs?page=1')\n",
    "containers = driver.find_elements(By.CSS_SELECTOR, \"[class= 'listing-card listing-card--tab listing-card--has-contact listing-card--has-content']\")\n",
    "len(containers)"
   ]
  },
  {
   "cell_type": "code",
   "execution_count": 27,
   "metadata": {},
   "outputs": [
    {
     "name": "stdout",
     "output_type": "stream",
     "text": [
      "details:Ordinateur Lenovo en Promotion -- etat:Venant -- adresse:Médina -- prix:79900.00 -- marque:Lenovo https://i.roamcdn.net/hz/ed/listing-thumb-224w/f1ebc347c42332b9ef6300e0afb5c356/-/horizon-files-prod/ed/picture/qwep684g/43fa9ffb8c01914876f1eaf0da3f5f37c5ef584f.jpg\n"
     ]
    }
   ],
   "source": [
    "container = containers[0]\n",
    "link_element = container.find_element(By.CSS_SELECTOR, 'a')\n",
    "header = container.find_element(By.CSS_SELECTOR,\"[class= 'listing-card__header__tags']\")\n",
    "img_link= container.find_element(By.CSS_SELECTOR,\"[class='listing-card__image__resource vh-img']\")\n",
    "\n",
    "details = link_element.get_attribute('data-t-listing_title')\n",
    "\n",
    "try:\n",
    "    etat = header.find_element(By.CSS_SELECTOR, \"[class^='listing-card__header__tags__item listing-card__header__tags__item--condition']\").text\n",
    "except:\n",
    "    etat = \"Non spécifié\"\n",
    "\n",
    "try:\n",
    "    marque = header.find_element(By.CSS_SELECTOR, \"[class^='listing-card__header__tags__item listing-card__header__tags__item--make listing-card__header__tags__item--make']\").text\n",
    "except:\n",
    "    marque = \"Non spécifié\"\n",
    "adresse = link_element.get_attribute(\"data-t-listing_location_title\")\n",
    "\n",
    "prix = link_element.get_attribute(\"data-t-listing_price\")\n",
    "\n",
    "image_lien = img_link.get_attribute('src')\n",
    "print(f\"details:{details} -- etat:{etat} -- adresse:{adresse} -- prix:{prix} -- marque:{marque} {image_lien}\" )\n"
   ]
  },
  {
   "cell_type": "code",
   "execution_count": 28,
   "metadata": {},
   "outputs": [],
   "source": [
    "import pandas as pd\n",
    "def scrapping_ordi():\n",
    "    data =[]\n",
    "    for i in range(100):\n",
    "        driver.get(f\"https://www.expat-dakar.com/ordinateurs?page={i}\")\n",
    "        containers = driver.find_elements(By.CSS_SELECTOR, \"[class= 'listing-card listing-card--tab listing-card--has-contact listing-card--has-content']\")\n",
    "        for container in containers:\n",
    "            link_element = container.find_element(By.CSS_SELECTOR, 'a')\n",
    "            header = container.find_element(By.CSS_SELECTOR,\"[class= 'listing-card__header__tags']\")\n",
    "            img_link= container.find_element(By.CSS_SELECTOR,\"[class='listing-card__image__resource vh-img']\")\n",
    "            try:\n",
    "                details = link_element.get_attribute('data-t-listing_title')\n",
    "                etat = header.find_element(By.CSS_SELECTOR, \"[class^='listing-card__header__tags__item listing-card__header__tags__item--condition']\").text\n",
    "                marque = header.find_element(By.CSS_SELECTOR, \"[class^='listing-card__header__tags__item listing-card__header__tags__item--make listing-card__header__tags__item--make']\").text\n",
    "                adresse = link_element.get_attribute(\"data-t-listing_location_title\")\n",
    "                prix = link_element.get_attribute(\"data-t-listing_price\")\n",
    "                image_lien = img_link.get_attribute('src')\n",
    "                dic = {'details':details,'etat':etat,'marque':marque,'prix':prix,\"adresse\":adresse,\"lien image\":image_lien}\n",
    "                data.append(dic)\n",
    "            except:\n",
    "                pass\n",
    "        df_ordi = pd.DataFrame(data)\n",
    "    return df_ordi"
   ]
  },
  {
   "cell_type": "code",
   "execution_count": 29,
   "metadata": {},
   "outputs": [
    {
     "data": {
      "text/html": [
       "<div>\n",
       "<style scoped>\n",
       "    .dataframe tbody tr th:only-of-type {\n",
       "        vertical-align: middle;\n",
       "    }\n",
       "\n",
       "    .dataframe tbody tr th {\n",
       "        vertical-align: top;\n",
       "    }\n",
       "\n",
       "    .dataframe thead th {\n",
       "        text-align: right;\n",
       "    }\n",
       "</style>\n",
       "<table border=\"1\" class=\"dataframe\">\n",
       "  <thead>\n",
       "    <tr style=\"text-align: right;\">\n",
       "      <th></th>\n",
       "      <th>details</th>\n",
       "      <th>etat</th>\n",
       "      <th>marque</th>\n",
       "      <th>prix</th>\n",
       "      <th>adresse</th>\n",
       "      <th>lien image</th>\n",
       "    </tr>\n",
       "  </thead>\n",
       "  <tbody>\n",
       "    <tr>\n",
       "      <th>0</th>\n",
       "      <td>Ordinateur Lenovo en Promotion</td>\n",
       "      <td>Venant</td>\n",
       "      <td>Lenovo</td>\n",
       "      <td>79900.00</td>\n",
       "      <td>Médina</td>\n",
       "      <td>https://i.roamcdn.net/hz/ed/listing-thumb-224w...</td>\n",
       "    </tr>\n",
       "    <tr>\n",
       "      <th>1</th>\n",
       "      <td>🚀 LENOVO E570 : corei7 7th gen GTX ! 🚀</td>\n",
       "      <td>Venant</td>\n",
       "      <td>Lenovo</td>\n",
       "      <td>225000.00</td>\n",
       "      <td>Gibraltar</td>\n",
       "      <td>https://i.roamcdn.net/hz/ed/listing-thumb-224w...</td>\n",
       "    </tr>\n",
       "    <tr>\n",
       "      <th>2</th>\n",
       "      <td>LENOVO corei5/i7</td>\n",
       "      <td>Neuf</td>\n",
       "      <td>Lenovo</td>\n",
       "      <td>150000.00</td>\n",
       "      <td>Gibraltar</td>\n",
       "      <td>https://i.roamcdn.net/hz/ed/listing-thumb-224w...</td>\n",
       "    </tr>\n",
       "    <tr>\n",
       "      <th>3</th>\n",
       "      <td>HP EliteBook 1030 core i5</td>\n",
       "      <td>Neuf</td>\n",
       "      <td>HP</td>\n",
       "      <td>250000.00</td>\n",
       "      <td>Gibraltar</td>\n",
       "      <td>https://i.roamcdn.net/hz/ed/listing-thumb-224w...</td>\n",
       "    </tr>\n",
       "    <tr>\n",
       "      <th>4</th>\n",
       "      <td>Ordinateur Hp Core i5 Ram 16giga</td>\n",
       "      <td>Réconditionné</td>\n",
       "      <td>HP</td>\n",
       "      <td>229900.00</td>\n",
       "      <td>Médina</td>\n",
       "      <td>https://i.roamcdn.net/hz/ed/listing-thumb-224w...</td>\n",
       "    </tr>\n",
       "  </tbody>\n",
       "</table>\n",
       "</div>"
      ],
      "text/plain": [
       "                                  details           etat  marque       prix  \\\n",
       "0          Ordinateur Lenovo en Promotion         Venant  Lenovo   79900.00   \n",
       "1  🚀 LENOVO E570 : corei7 7th gen GTX ! 🚀         Venant  Lenovo  225000.00   \n",
       "2                        LENOVO corei5/i7           Neuf  Lenovo  150000.00   \n",
       "3               HP EliteBook 1030 core i5           Neuf      HP  250000.00   \n",
       "4        Ordinateur Hp Core i5 Ram 16giga  Réconditionné      HP  229900.00   \n",
       "\n",
       "     adresse                                         lien image  \n",
       "0     Médina  https://i.roamcdn.net/hz/ed/listing-thumb-224w...  \n",
       "1  Gibraltar  https://i.roamcdn.net/hz/ed/listing-thumb-224w...  \n",
       "2  Gibraltar  https://i.roamcdn.net/hz/ed/listing-thumb-224w...  \n",
       "3  Gibraltar  https://i.roamcdn.net/hz/ed/listing-thumb-224w...  \n",
       "4     Médina  https://i.roamcdn.net/hz/ed/listing-thumb-224w...  "
      ]
     },
     "execution_count": 29,
     "metadata": {},
     "output_type": "execute_result"
    }
   ],
   "source": [
    "df_ordi = scrapping_ordi()\n",
    "df_ordi.head()"
   ]
  },
  {
   "cell_type": "code",
   "execution_count": 30,
   "metadata": {},
   "outputs": [
    {
     "data": {
      "text/plain": [
       "(997, 6)"
      ]
     },
     "execution_count": 30,
     "metadata": {},
     "output_type": "execute_result"
    }
   ],
   "source": [
    "df_ordi.shape"
   ]
  },
  {
   "cell_type": "code",
   "execution_count": null,
   "metadata": {},
   "outputs": [],
   "source": []
  }
 ],
 "metadata": {
  "kernelspec": {
   "display_name": "Python 3",
   "language": "python",
   "name": "python3"
  },
  "language_info": {
   "codemirror_mode": {
    "name": "ipython",
    "version": 3
   },
   "file_extension": ".py",
   "mimetype": "text/x-python",
   "name": "python",
   "nbconvert_exporter": "python",
   "pygments_lexer": "ipython3",
   "version": "3.13.0"
  }
 },
 "nbformat": 4,
 "nbformat_minor": 2
}
