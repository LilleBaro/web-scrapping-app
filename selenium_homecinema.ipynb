{
 "cells": [
  {
   "cell_type": "code",
   "execution_count": 1,
   "metadata": {},
   "outputs": [],
   "source": [
    "from selenium import webdriver\n",
    "from selenium.webdriver.common.by import By"
   ]
  },
  {
   "cell_type": "code",
   "execution_count": 2,
   "metadata": {},
   "outputs": [],
   "source": [
    "options = webdriver.ChromeOptions()\n",
    "options.add_argument(\"--headless=new\")\n",
    "driver = webdriver.Chrome(options=options)"
   ]
  },
  {
   "cell_type": "code",
   "execution_count": 3,
   "metadata": {},
   "outputs": [
    {
     "data": {
      "text/plain": [
       "10"
      ]
     },
     "execution_count": 3,
     "metadata": {},
     "output_type": "execute_result"
    }
   ],
   "source": [
    "driver.get('https://www.expat-dakar.com/tv-home-cinema?page=1')\n",
    "containers = driver.find_elements(By.CSS_SELECTOR,\"[class='listing-card listing-card--tab listing-card--has-contact listing-card--has-content']\")\n",
    "len(containers)\n"
   ]
  },
  {
   "cell_type": "code",
   "execution_count": 8,
   "metadata": {},
   "outputs": [],
   "source": [
    "import pandas as pd\n",
    "def scrapping_home():\n",
    "    data =[]\n",
    "    for i in range(100):\n",
    "        driver.get(f\"https://www.expat-dakar.com/tv-home-cinema?page={i}\")\n",
    "        containers = driver.find_elements(By.CSS_SELECTOR, \"[class= 'listing-card listing-card--tab listing-card--has-contact listing-card--has-content']\")\n",
    "        for container in containers:\n",
    "            img_link= container.find_element(By.CSS_SELECTOR,\"[class='listing-card__image__resource vh-img']\")\n",
    "            link_element = container.find_element(By.CSS_SELECTOR, 'a')\n",
    "            header = container.find_element(By.CSS_SELECTOR,\"[class= 'listing-card__header__tags']\")\n",
    "            try:\n",
    "                details = link_element.get_attribute('data-t-listing_title')\n",
    "                etat = header.find_element(By.CSS_SELECTOR, \"[class^='listing-card__header__tags__item listing-card__header__tags__item--condition']\").text\n",
    "                marque = header.find_element(By.CSS_SELECTOR, \"[class^='listing-card__header__tags__item listing-card__header__tags__item--make listing-card__header__tags__item--make']\").text\n",
    "                adresse = link_element.get_attribute(\"data-t-listing_location_title\")\n",
    "                prix = link_element.get_attribute(\"data-t-listing_price\")\n",
    "                lien_image = img_link.get_attribute(\"src\")\n",
    "                dic = {'details':details,'etat':etat,'marque':marque,'prix':prix,\"adresse\":adresse,\"lien image\":lien_image}\n",
    "                data.append(dic)\n",
    "            except:\n",
    "                pass\n",
    "        DF = pd.DataFrame(data)\n",
    "    return DF"
   ]
  },
  {
   "cell_type": "code",
   "execution_count": 9,
   "metadata": {},
   "outputs": [
    {
     "data": {
      "text/plain": [
       "(996, 6)"
      ]
     },
     "execution_count": 9,
     "metadata": {},
     "output_type": "execute_result"
    }
   ],
   "source": [
    "df = scrapping_home()\n",
    "df.shape"
   ]
  },
  {
   "cell_type": "code",
   "execution_count": null,
   "metadata": {},
   "outputs": [],
   "source": []
  }
 ],
 "metadata": {
  "kernelspec": {
   "display_name": "Python 3",
   "language": "python",
   "name": "python3"
  },
  "language_info": {
   "codemirror_mode": {
    "name": "ipython",
    "version": 3
   },
   "file_extension": ".py",
   "mimetype": "text/x-python",
   "name": "python",
   "nbconvert_exporter": "python",
   "pygments_lexer": "ipython3",
   "version": "3.13.0"
  }
 },
 "nbformat": 4,
 "nbformat_minor": 2
}
