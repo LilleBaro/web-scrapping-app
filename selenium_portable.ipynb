{
 "cells": [
  {
   "cell_type": "code",
   "execution_count": 1,
   "metadata": {},
   "outputs": [],
   "source": [
    "from selenium import webdriver\n",
    "from selenium.webdriver.common.by import By"
   ]
  },
  {
   "cell_type": "code",
   "execution_count": 2,
   "metadata": {},
   "outputs": [],
   "source": [
    "options = webdriver.ChromeOptions()\n",
    "options.add_argument(\"--headless=new\")\n",
    "driver = webdriver.Chrome(options=options)"
   ]
  },
  {
   "cell_type": "code",
   "execution_count": 3,
   "metadata": {},
   "outputs": [
    {
     "data": {
      "text/plain": [
       "10"
      ]
     },
     "execution_count": 3,
     "metadata": {},
     "output_type": "execute_result"
    }
   ],
   "source": [
    "driver.get('https://www.expat-dakar.com/telephones?page=1')\n",
    "containers = driver.find_elements(By.CSS_SELECTOR,\"[class='listing-card listing-card--tab listing-card--has-contact listing-card--has-content']\")\n",
    "len(containers)\n"
   ]
  },
  {
   "cell_type": "code",
   "execution_count": 4,
   "metadata": {},
   "outputs": [
    {
     "name": "stdout",
     "output_type": "stream",
     "text": [
      "details:Xiaomi redmi 14c neuf 256go ram 8go -- etat:Neuf -- adresse:Patte d‘oie -- prix:80000.00 -- marque:Xiaomi\n"
     ]
    }
   ],
   "source": [
    "container = containers[9]\n",
    "link_element = container.find_element(By.CSS_SELECTOR, 'a')\n",
    "header = container.find_element(By.CSS_SELECTOR,\"[class= 'listing-card__header__tags']\")\n",
    "img = container.find_element(By.CSS_SELECTOR,\"[class='listing-card__image__inner']\")\n",
    "\n",
    "details = link_element.get_attribute('data-t-listing_title')\n",
    "\n",
    "try:\n",
    "    etat = header.find_element(By.CSS_SELECTOR, \"[class^='listing-card__header__tags__item listing-card__header__tags__item--condition']\").text\n",
    "except:\n",
    "    etat = \"Non spécifié\"\n",
    "\n",
    "try:\n",
    "    marque = header.find_element(By.CSS_SELECTOR, \"[class^='listing-card__header__tags__item listing-card__header__tags__item--make listing-card__header__tags__item--make']\").text\n",
    "except:\n",
    "    marque = \"Non spécifié\"\n",
    "adresse = link_element.get_attribute(\"data-t-listing_location_title\")\n",
    "\n",
    "prix = link_element.get_attribute(\"data-t-listing_price\")\n",
    "\n",
    "# image_lien = \n",
    "print(f\"details:{details} -- etat:{etat} -- adresse:{adresse} -- prix:{prix} -- marque:{marque}\" )\n"
   ]
  },
  {
   "cell_type": "code",
   "execution_count": 5,
   "metadata": {},
   "outputs": [],
   "source": [
    "import pandas as pd\n",
    "def scrapping_portable():\n",
    "    data =[]\n",
    "    for i in range(100):\n",
    "        driver.get(f\"https://www.expat-dakar.com/telephones?page={i}\")\n",
    "        containers = driver.find_elements(By.CSS_SELECTOR, \"[class= 'listing-card listing-card--tab listing-card--has-contact listing-card--has-content']\")\n",
    "        for container in containers:\n",
    "            link_element = container.find_element(By.CSS_SELECTOR, 'a')\n",
    "            header = container.find_element(By.CSS_SELECTOR,\"[class= 'listing-card__header__tags']\")\n",
    "            img_link= container.find_element(By.CSS_SELECTOR,\"[class='listing-card__image__resource vh-img']\")\n",
    "            try:\n",
    "                details = link_element.get_attribute('data-t-listing_title')\n",
    "                etat = header.find_element(By.CSS_SELECTOR, \"[class^='listing-card__header__tags__item listing-card__header__tags__item--condition']\").text\n",
    "                marque = header.find_element(By.CSS_SELECTOR, \"[class^='listing-card__header__tags__item listing-card__header__tags__item--make listing-card__header__tags__item--make']\").text\n",
    "                adresse = link_element.get_attribute(\"data-t-listing_location_title\")\n",
    "                prix = link_element.get_attribute(\"data-t-listing_price\")\n",
    "                lien_image = img_link.get_attribute(\"src\")\n",
    "                dic = {'details':details,'etat':etat,'marque':marque,'prix':prix,\"adresse\":adresse,\"lien image\":lien_image}\n",
    "                data.append(dic)\n",
    "            except:\n",
    "                pass\n",
    "        DF = pd.DataFrame(data)\n",
    "    return DF"
   ]
  },
  {
   "cell_type": "code",
   "execution_count": 6,
   "metadata": {},
   "outputs": [
    {
     "data": {
      "text/plain": [
       "(999, 6)"
      ]
     },
     "execution_count": 6,
     "metadata": {},
     "output_type": "execute_result"
    }
   ],
   "source": [
    "df = scrapping_portable()\n"
   ]
  },
  {
   "cell_type": "code",
   "execution_count": 7,
   "metadata": {},
   "outputs": [
    {
     "data": {
      "text/html": [
       "<div>\n",
       "<style scoped>\n",
       "    .dataframe tbody tr th:only-of-type {\n",
       "        vertical-align: middle;\n",
       "    }\n",
       "\n",
       "    .dataframe tbody tr th {\n",
       "        vertical-align: top;\n",
       "    }\n",
       "\n",
       "    .dataframe thead th {\n",
       "        text-align: right;\n",
       "    }\n",
       "</style>\n",
       "<table border=\"1\" class=\"dataframe\">\n",
       "  <thead>\n",
       "    <tr style=\"text-align: right;\">\n",
       "      <th></th>\n",
       "      <th>details</th>\n",
       "      <th>etat</th>\n",
       "      <th>marque</th>\n",
       "      <th>prix</th>\n",
       "      <th>adresse</th>\n",
       "      <th>lien image</th>\n",
       "    </tr>\n",
       "  </thead>\n",
       "  <tbody>\n",
       "    <tr>\n",
       "      <th>0</th>\n",
       "      <td>iPhone 14 Pro 256 GO</td>\n",
       "      <td>Neuf</td>\n",
       "      <td>iPhone</td>\n",
       "      <td>500000.00</td>\n",
       "      <td>Fann</td>\n",
       "      <td>https://i.roamcdn.net/hz/ed/listing-thumb-224w...</td>\n",
       "    </tr>\n",
       "    <tr>\n",
       "      <th>1</th>\n",
       "      <td>iPhone 16 pro max 256 go</td>\n",
       "      <td>Neuf</td>\n",
       "      <td>iPhone</td>\n",
       "      <td>880000.00</td>\n",
       "      <td>Plateau</td>\n",
       "      <td>https://i.roamcdn.net/hz/ed/listing-thumb-224w...</td>\n",
       "    </tr>\n",
       "    <tr>\n",
       "      <th>2</th>\n",
       "      <td>iPhone 16 simple 128 go SIM</td>\n",
       "      <td>Neuf</td>\n",
       "      <td>iPhone</td>\n",
       "      <td>550000.00</td>\n",
       "      <td>Plateau</td>\n",
       "      <td>https://i.roamcdn.net/hz/ed/listing-thumb-224w...</td>\n",
       "    </tr>\n",
       "    <tr>\n",
       "      <th>3</th>\n",
       "      <td>IPhone 11 128Go</td>\n",
       "      <td>Venant</td>\n",
       "      <td>iPhone</td>\n",
       "      <td>230000.00</td>\n",
       "      <td>Point-e</td>\n",
       "      <td>https://i.roamcdn.net/hz/ed/listing-thumb-224w...</td>\n",
       "    </tr>\n",
       "    <tr>\n",
       "      <th>4</th>\n",
       "      <td>Vente Samsung Galaxy S24</td>\n",
       "      <td>Venant</td>\n",
       "      <td>Samsung</td>\n",
       "      <td>420000.00</td>\n",
       "      <td>Plateau</td>\n",
       "      <td>https://i.roamcdn.net/hz/ed/listing-thumb-224w...</td>\n",
       "    </tr>\n",
       "  </tbody>\n",
       "</table>\n",
       "</div>"
      ],
      "text/plain": [
       "                       details    etat   marque       prix  adresse  \\\n",
       "0         iPhone 14 Pro 256 GO    Neuf   iPhone  500000.00     Fann   \n",
       "1     iPhone 16 pro max 256 go    Neuf   iPhone  880000.00  Plateau   \n",
       "2  iPhone 16 simple 128 go SIM    Neuf   iPhone  550000.00  Plateau   \n",
       "3              IPhone 11 128Go  Venant   iPhone  230000.00  Point-e   \n",
       "4     Vente Samsung Galaxy S24  Venant  Samsung  420000.00  Plateau   \n",
       "\n",
       "                                          lien image  \n",
       "0  https://i.roamcdn.net/hz/ed/listing-thumb-224w...  \n",
       "1  https://i.roamcdn.net/hz/ed/listing-thumb-224w...  \n",
       "2  https://i.roamcdn.net/hz/ed/listing-thumb-224w...  \n",
       "3  https://i.roamcdn.net/hz/ed/listing-thumb-224w...  \n",
       "4  https://i.roamcdn.net/hz/ed/listing-thumb-224w...  "
      ]
     },
     "execution_count": 7,
     "metadata": {},
     "output_type": "execute_result"
    }
   ],
   "source": [
    "DF.head()"
   ]
  },
  {
   "cell_type": "code",
   "execution_count": null,
   "metadata": {},
   "outputs": [],
   "source": []
  }
 ],
 "metadata": {
  "kernelspec": {
   "display_name": "Python 3",
   "language": "python",
   "name": "python3"
  },
  "language_info": {
   "codemirror_mode": {
    "name": "ipython",
    "version": 3
   },
   "file_extension": ".py",
   "mimetype": "text/x-python",
   "name": "python",
   "nbconvert_exporter": "python",
   "pygments_lexer": "ipython3",
   "version": "3.13.0"
  }
 },
 "nbformat": 4,
 "nbformat_minor": 2
}
